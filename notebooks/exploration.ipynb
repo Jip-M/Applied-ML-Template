{
 "cells": [
  {
   "metadata": {},
   "cell_type": "raw",
   "source": "",
   "id": "2bed8fdfb072d19e"
  },
  {
   "metadata": {},
   "cell_type": "code",
   "outputs": [],
   "execution_count": null,
   "source": "!pip install xeno-canto",
   "id": "bebf5f24ea90a11a"
  },
  {
   "metadata": {},
   "cell_type": "code",
   "outputs": [],
   "execution_count": null,
   "source": [
    "# Download only the metadata\n",
    "import json\n",
    "\n",
    "!xeno-canto -m grp:\"bats\" q:\"A\"\n",
    "\n",
    "# Uncomment the next line to get all data (WARNING 10 GiB)\n",
    "# !xeno-canto -dl grp:\"bats\" q:\"A\"\n",
    "\n",
    "dir = \"dataset/metadata/grp_batsq_A\"\n",
    "\n",
    "with open(dir+\"/page1.json\", 'r') as file:\n",
    "    data = json.load(file)\n",
    "    print(\"API message:\", data[\"message\"])\n",
    "    print(\"Number of recordings:\", data[\"numRecordings\"])\n",
    "    print(\"Number of pages:\", data[\"numPages\"])"
   ],
   "id": "235f51d498fa5df7"
  },
  {
   "metadata": {},
   "cell_type": "code",
   "outputs": [],
   "execution_count": null,
   "source": [
    "import os\n",
    "import json\n",
    "import pandas as pd\n",
    "\n",
    "# Convert metadata into frames\n",
    "frames = []\n",
    "for entry in os.scandir(dir):\n",
    "    if entry.is_file():\n",
    "        with open(entry, 'r') as file:\n",
    "            data = json.load(file)\n",
    "            df = pd.DataFrame(data['recordings'])\n",
    "            frames.append(df)\n",
    "\n",
    "all_data = pd.concat(frames)\n",
    "\n",
    "# Print some metadata\n",
    "print (all_data.columns.values.tolist())\n",
    "\n",
    "\n",
    "# all_data.head()\n",
    "\n",
    "# print(all_data)\n"
   ],
   "id": "8a5eff9b34148dc5"
  },
  {
   "metadata": {},
   "cell_type": "code",
   "outputs": [],
   "execution_count": null,
   "source": [
    "def to_seconds(x):\n",
    "    mins, secs = map(float, x.split(':'))\n",
    "    return mins * 60 + secs\n",
    "\n",
    "all_data['length'] = all_data['length'].apply(to_seconds)\n",
    "all_data = all_data.rename(columns={\"gen\": \"genus\", \"en\": \"english_name\", \"cnt\": \"country\", \"type\": \"call_type\", \"length\": \"audio_length\", \"dvc\": \"device\", \"mic\": \"microphone\"})\n",
    "data = all_data[[\"id\", \"genus\", \"english_name\", \"country\", \"call_type\", \"sex\", \"audio_length\", \"device\", \"microphone\"]]\n",
    "data.head()\n"
   ],
   "id": "34bf8dd1fe9f6984"
  },
  {
   "metadata": {},
   "cell_type": "code",
   "outputs": [],
   "execution_count": null,
   "source": [
    "import matplotlib.pyplot as plt\n",
    "import seaborn\n",
    "\n",
    "fig, ax = plt.subplots(figsize=(10,3))\n",
    "ax.tick_params(axis='x', labelrotation=90)\n",
    "ax.set_title(\"Histogram of bat genus\")\n",
    "seaborn.histplot(x=\"genus\", data=data, ax=ax)\n",
    "\n",
    "fig, ax = plt.subplots(figsize=(10,3))\n",
    "ax.tick_params(axis='x', labelrotation=90)\n",
    "ax.set_title(\"Histogram of bat sex\")\n",
    "seaborn.histplot(x=\"sex\", data=data, ax=ax)\n",
    "\n",
    "fig, ax = plt.subplots(figsize=(10,3))\n",
    "ax.tick_params(axis='x', labelrotation=90)\n",
    "ax.set_title(\"Histogram of country of observation\")\n",
    "seaborn.histplot(x=\"country\", data=data, ax=ax)\n",
    "\n",
    "fig, ax = plt.subplots(figsize=(10,3))\n",
    "ax.tick_params(axis='x', labelrotation=90)\n",
    "ax.set_title(\"Histogram of call type\")\n",
    "seaborn.histplot(x=\"call_type\", data=data, ax=ax)\n",
    "\n",
    "fig, ax = plt.subplots(figsize=(10,3))\n",
    "ax = seaborn.histplot(x=\"audio_length\", data=data)\n",
    "ax.set_title(\"Histogram of audio fragment duration\")\n",
    "ax.set_xlabel(\"Audio duration (s)\")"
   ],
   "id": "1395ec35433aa86a"
  },
  {
   "metadata": {},
   "cell_type": "code",
   "outputs": [],
   "execution_count": null,
   "source": "",
   "id": "8be31f49880e338d"
  }
 ],
 "metadata": {},
 "nbformat": 4,
 "nbformat_minor": 5
}
