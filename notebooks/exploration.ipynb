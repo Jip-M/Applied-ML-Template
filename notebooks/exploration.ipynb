{
 "cells": [
  {
   "cell_type": "code",
   "execution_count": 1,
   "id": "initial_id",
   "metadata": {
    "ExecuteTime": {
     "end_time": "2025-05-02T13:29:32.158379Z",
     "start_time": "2025-05-02T13:29:31.507507Z"
    },
    "collapsed": true
   },
   "outputs": [
    {
     "name": "stdout",
     "output_type": "stream",
     "text": [
      "Requirement already satisfied: xeno-canto in /opt/anaconda3/envs/test2/lib/python3.10/site-packages (3.0)\n",
      "Requirement already satisfied: aiofiles>=0.8.0 in /opt/anaconda3/envs/test2/lib/python3.10/site-packages (from xeno-canto) (24.1.0)\n",
      "Requirement already satisfied: aiohttp>=3.8.1 in /opt/anaconda3/envs/test2/lib/python3.10/site-packages (from xeno-canto) (3.11.18)\n",
      "Requirement already satisfied: aiohappyeyeballs>=2.3.0 in /opt/anaconda3/envs/test2/lib/python3.10/site-packages (from aiohttp>=3.8.1->xeno-canto) (2.6.1)\n",
      "Requirement already satisfied: aiosignal>=1.1.2 in /opt/anaconda3/envs/test2/lib/python3.10/site-packages (from aiohttp>=3.8.1->xeno-canto) (1.3.2)\n",
      "Requirement already satisfied: async-timeout<6.0,>=4.0 in /opt/anaconda3/envs/test2/lib/python3.10/site-packages (from aiohttp>=3.8.1->xeno-canto) (5.0.1)\n",
      "Requirement already satisfied: attrs>=17.3.0 in /opt/anaconda3/envs/test2/lib/python3.10/site-packages (from aiohttp>=3.8.1->xeno-canto) (23.1.0)\n",
      "Requirement already satisfied: frozenlist>=1.1.1 in /opt/anaconda3/envs/test2/lib/python3.10/site-packages (from aiohttp>=3.8.1->xeno-canto) (1.6.0)\n",
      "Requirement already satisfied: multidict<7.0,>=4.5 in /opt/anaconda3/envs/test2/lib/python3.10/site-packages (from aiohttp>=3.8.1->xeno-canto) (6.4.3)\n",
      "Requirement already satisfied: propcache>=0.2.0 in /opt/anaconda3/envs/test2/lib/python3.10/site-packages (from aiohttp>=3.8.1->xeno-canto) (0.3.1)\n",
      "Requirement already satisfied: yarl<2.0,>=1.17.0 in /opt/anaconda3/envs/test2/lib/python3.10/site-packages (from aiohttp>=3.8.1->xeno-canto) (1.20.0)\n",
      "Requirement already satisfied: typing-extensions>=4.1.0 in /opt/anaconda3/envs/test2/lib/python3.10/site-packages (from multidict<7.0,>=4.5->aiohttp>=3.8.1->xeno-canto) (4.11.0)\n",
      "Requirement already satisfied: idna>=2.0 in /opt/anaconda3/envs/test2/lib/python3.10/site-packages (from yarl<2.0,>=1.17.0->aiohttp>=3.8.1->xeno-canto) (3.7)\n"
     ]
    }
   ],
   "source": [
    "!pip install xeno-canto"
   ]
  },
  {
   "cell_type": "code",
   "execution_count": 2,
   "id": "7a676188a5f9d61d",
   "metadata": {
    "ExecuteTime": {
     "end_time": "2025-05-02T13:34:31.125450Z",
     "start_time": "2025-05-02T13:34:31.106261Z"
    }
   },
   "outputs": [
    {
     "name": "stdout",
     "output_type": "stream",
     "text": [
      "Retrieving metadata...\n",
      "Downloading metadata page 1...\n",
      "Downloading metadata page 2...\n",
      "Downloading metadata page 3...\n",
      "Metadata retrieval complete.\n",
      "API message: Xeno-canto API v2 will be phased out on October 10, 2025. Visit https://xeno-canto.org/explore/api for API v3 documentation.\n",
      "Number of recordings: 1171\n",
      "Number of pages: 3\n"
     ]
    }
   ],
   "source": [
    "# Download only the metadata\n",
    "import json\n",
    "\n",
    "!xeno-canto -m grp:\"bats\" q:\"A\"\n",
    "\n",
    "# Uncomment the next line to get all data (WARNING 10 GiB)\n",
    "# !xeno-canto -dl grp:\"bats\" q:\"A\"\n",
    "\n",
    "dir = \"dataset/metadata/grp_batsq_A\"\n",
    "\n",
    "with open(dir+\"/page1.json\", 'r') as file:\n",
    "    data = json.load(file)\n",
    "    print(\"API message:\", data[\"message\"])\n",
    "    print(\"Number of recordings:\", data[\"numRecordings\"])\n",
    "    print(\"Number of pages:\", data[\"numPages\"])"
   ]
  },
  {
   "cell_type": "code",
   "execution_count": 3,
   "id": "c5dd789d068a2a5a",
   "metadata": {
    "ExecuteTime": {
     "end_time": "2025-05-02T14:22:00.662657Z",
     "start_time": "2025-05-02T14:22:00.640260Z"
    }
   },
   "outputs": [
    {
     "name": "stdout",
     "output_type": "stream",
     "text": [
      "['id', 'gen', 'sp', 'ssp', 'group', 'en', 'rec', 'cnt', 'loc', 'lat', 'lng', 'alt', 'type', 'sex', 'stage', 'method', 'url', 'file', 'file-name', 'sono', 'osci', 'lic', 'q', 'length', 'time', 'date', 'uploaded', 'also', 'rmk', 'bird-seen', 'animal-seen', 'playback-used', 'temp', 'regnr', 'auto', 'dvc', 'mic', 'smp']\n"
     ]
    }
   ],
   "source": [
    "import os\n",
    "import json\n",
    "import pandas as pd\n",
    "\n",
    "# Convert metadata into frames\n",
    "frames = []\n",
    "for entry in os.scandir(dir):\n",
    "    if entry.is_file():\n",
    "        with open(entry, 'r') as file:\n",
    "            data = json.load(file)\n",
    "            df = pd.DataFrame(data['recordings'])\n",
    "            frames.append(df)\n",
    "\n",
    "all_data = pd.concat(frames)\n",
    "\n",
    "# Print some metadata\n",
    "print (all_data.columns.values.tolist())\n",
    "\n",
    "\n",
    "# all_data.head()\n",
    "\n",
    "# print(all_data)\n"
   ]
  },
  {
   "cell_type": "code",
   "execution_count": 4,
   "id": "95a9422f05bd60b1",
   "metadata": {
    "ExecuteTime": {
     "end_time": "2025-05-02T14:26:31.748216Z",
     "start_time": "2025-05-02T14:26:31.738038Z"
    }
   },
   "outputs": [],
   "source": [
    "def to_seconds(x):\n",
    "    mins, secs = map(float, x.split(':'))\n",
    "    return mins * 60 + secs\n",
    "\n",
    "all_data['length'] = all_data['length'].apply(to_seconds)\n",
    "data = all_data[[\"id\", \"gen\", \"sp\", \"en\", \"cnt\", \"loc\", \"type\", \"sex\", \"length\", \"dvc\", \"mic\"]]\n",
    "\n",
    "\n"
   ]
  },
  {
   "cell_type": "code",
   "execution_count": 5,
   "id": "691637b111ff3306",
   "metadata": {
    "ExecuteTime": {
     "end_time": "2025-05-02T14:26:46.338051Z",
     "start_time": "2025-05-02T14:26:45.966490Z"
    }
   },
   "outputs": [
    {
     "ename": "ModuleNotFoundError",
     "evalue": "No module named 'seaborn'",
     "output_type": "error",
     "traceback": [
      "\u001b[0;31m---------------------------------------------------------------------------\u001b[0m",
      "\u001b[0;31mModuleNotFoundError\u001b[0m                       Traceback (most recent call last)",
      "Cell \u001b[0;32mIn[5], line 2\u001b[0m\n\u001b[1;32m      1\u001b[0m \u001b[38;5;28;01mimport\u001b[39;00m \u001b[38;5;21;01mmatplotlib\u001b[39;00m\u001b[38;5;21;01m.\u001b[39;00m\u001b[38;5;21;01mpyplot\u001b[39;00m \u001b[38;5;28;01mas\u001b[39;00m \u001b[38;5;21;01mplt\u001b[39;00m\n\u001b[0;32m----> 2\u001b[0m \u001b[38;5;28;01mimport\u001b[39;00m \u001b[38;5;21;01mseaborn\u001b[39;00m\n\u001b[1;32m      4\u001b[0m fig, ax \u001b[38;5;241m=\u001b[39m plt\u001b[38;5;241m.\u001b[39msubplots(figsize\u001b[38;5;241m=\u001b[39m(\u001b[38;5;241m10\u001b[39m,\u001b[38;5;241m3\u001b[39m))\n\u001b[1;32m      5\u001b[0m ax\u001b[38;5;241m.\u001b[39mtick_params(axis\u001b[38;5;241m=\u001b[39m\u001b[38;5;124m'\u001b[39m\u001b[38;5;124mx\u001b[39m\u001b[38;5;124m'\u001b[39m, labelrotation\u001b[38;5;241m=\u001b[39m\u001b[38;5;241m90\u001b[39m)\n",
      "\u001b[0;31mModuleNotFoundError\u001b[0m: No module named 'seaborn'"
     ]
    }
   ],
   "source": [
    "import matplotlib.pyplot as plt\n",
    "import seaborn\n",
    "\n",
    "fig, ax = plt.subplots(figsize=(10,3))\n",
    "ax.tick_params(axis='x', labelrotation=90)\n",
    "seaborn.histplot(x=\"gen\", data=data, ax=ax)\n",
    "\n",
    "fig, ax = plt.subplots(figsize=(10,3))\n",
    "ax.tick_params(axis='x', labelrotation=90)\n",
    "seaborn.histplot(x=\"sex\", data=data, ax=ax)\n",
    "\n",
    "fig, ax = plt.subplots(figsize=(10,3))\n",
    "ax.tick_params(axis='x', labelrotation=90)\n",
    "seaborn.histplot(x=\"cnt\", data=data, ax=ax)\n",
    "\n",
    "fig, ax = plt.subplots(figsize=(10,3))\n",
    "seaborn.histplot(x=\"length\", data=data)"
   ]
  }
 ],
 "metadata": {
  "kernelspec": {
   "display_name": "Python 3",
   "language": "python",
   "name": "python3"
  },
  "language_info": {
   "codemirror_mode": {
    "name": "ipython",
    "version": 3
   },
   "file_extension": ".py",
   "mimetype": "text/x-python",
   "name": "python",
   "nbconvert_exporter": "python",
   "pygments_lexer": "ipython3",
   "version": "3.10.14"
  }
 },
 "nbformat": 4,
 "nbformat_minor": 5
}
