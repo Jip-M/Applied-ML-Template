{
 "cells": [
  {
   "cell_type": "code",
   "id": "initial_id",
   "metadata": {
    "collapsed": true,
    "ExecuteTime": {
     "end_time": "2025-05-02T13:29:32.158379Z",
     "start_time": "2025-05-02T13:29:31.507507Z"
    }
   },
   "source": "!pip install xeno-canto",
   "outputs": [
    {
     "name": "stdout",
     "output_type": "stream",
     "text": [
      "Requirement already satisfied: xeno-canto in /Users/helena/miniconda3/lib/python3.12/site-packages (3.0)\r\n",
      "Requirement already satisfied: aiofiles>=0.8.0 in /Users/helena/miniconda3/lib/python3.12/site-packages (from xeno-canto) (24.1.0)\r\n",
      "Requirement already satisfied: aiohttp>=3.8.1 in /Users/helena/miniconda3/lib/python3.12/site-packages (from xeno-canto) (3.11.10)\r\n",
      "Requirement already satisfied: aiohappyeyeballs>=2.3.0 in /Users/helena/miniconda3/lib/python3.12/site-packages (from aiohttp>=3.8.1->xeno-canto) (2.4.4)\r\n",
      "Requirement already satisfied: aiosignal>=1.1.2 in /Users/helena/miniconda3/lib/python3.12/site-packages (from aiohttp>=3.8.1->xeno-canto) (1.2.0)\r\n",
      "Requirement already satisfied: attrs>=17.3.0 in /Users/helena/miniconda3/lib/python3.12/site-packages (from aiohttp>=3.8.1->xeno-canto) (23.1.0)\r\n",
      "Requirement already satisfied: frozenlist>=1.1.1 in /Users/helena/miniconda3/lib/python3.12/site-packages (from aiohttp>=3.8.1->xeno-canto) (1.5.0)\r\n",
      "Requirement already satisfied: multidict<7.0,>=4.5 in /Users/helena/miniconda3/lib/python3.12/site-packages (from aiohttp>=3.8.1->xeno-canto) (6.1.0)\r\n",
      "Requirement already satisfied: propcache>=0.2.0 in /Users/helena/miniconda3/lib/python3.12/site-packages (from aiohttp>=3.8.1->xeno-canto) (0.2.0)\r\n",
      "Requirement already satisfied: yarl<2.0,>=1.17.0 in /Users/helena/miniconda3/lib/python3.12/site-packages (from aiohttp>=3.8.1->xeno-canto) (1.18.0)\r\n",
      "Requirement already satisfied: idna>=2.0 in /Users/helena/miniconda3/lib/python3.12/site-packages (from yarl<2.0,>=1.17.0->aiohttp>=3.8.1->xeno-canto) (3.4)\r\n"
     ]
    }
   ],
   "execution_count": 9
  },
  {
   "metadata": {
    "ExecuteTime": {
     "end_time": "2025-05-02T13:34:31.125450Z",
     "start_time": "2025-05-02T13:34:31.106261Z"
    }
   },
   "cell_type": "code",
   "source": [
    "# Download only the metadata\n",
    "import json\n",
    "\n",
    "!xeno-canto -m grp:\"bats\" q:\"A\"\n",
    "\n",
    "# Uncomment the next line to get all data (WARNING 10 GiB)\n",
    "# !xeno-canto -dl grp:\"bats\" q:\"A\"\n",
    "\n",
    "dir = \"dataset/metadata/grp_batsq_A\"\n",
    "\n",
    "with open(dir+\"/page1.json\", 'r') as file:\n",
    "    data = json.load(file)\n",
    "    print(\"API message:\", data[\"message\"])\n",
    "    print(\"Number of recordings:\", data[\"numRecordings\"])\n",
    "    print(\"Number of pages:\", data[\"numPages\"])"
   ],
   "id": "7a676188a5f9d61d",
   "outputs": [
    {
     "name": "stdout",
     "output_type": "stream",
     "text": [
      "API message: Xeno-canto API v2 will be phased out on October 10, 2025. Visit https://xeno-canto.org/explore/api for API v3 documentation.\n",
      "Number of recordings: 1171\n",
      "Number of pages: 3\n"
     ]
    }
   ],
   "execution_count": 16
  },
  {
   "metadata": {
    "ExecuteTime": {
     "end_time": "2025-05-02T13:51:06.079592Z",
     "start_time": "2025-05-02T13:51:06.055512Z"
    }
   },
   "cell_type": "code",
   "source": [
    "import os\n",
    "import json\n",
    "import pandas as pd\n",
    "\n",
    "# Convert metadata into frames\n",
    "frames = []\n",
    "for entry in os.scandir(dir):\n",
    "    if entry.is_file():\n",
    "        with open(entry, 'r') as file:\n",
    "            data = json.load(file)\n",
    "            df = pd.DataFrame(data['recordings'])\n",
    "            frames.append(df)\n",
    "\n",
    "all_data = pd.concat(frames)\n",
    "\n",
    "# Print some metadata\n",
    "print (all_data.columns.values.tolist())\n",
    "\n",
    "\n",
    "# all_data.head()\n",
    "\n",
    "# print(all_data)\n"
   ],
   "id": "c5dd789d068a2a5a",
   "outputs": [
    {
     "name": "stdout",
     "output_type": "stream",
     "text": [
      "['id', 'gen', 'sp', 'ssp', 'group', 'en', 'rec', 'cnt', 'loc', 'lat', 'lng', 'alt', 'type', 'sex', 'stage', 'method', 'url', 'file', 'file-name', 'sono', 'osci', 'lic', 'q', 'length', 'time', 'date', 'uploaded', 'also', 'rmk', 'bird-seen', 'animal-seen', 'playback-used', 'temp', 'regnr', 'auto', 'dvc', 'mic', 'smp']\n"
     ]
    }
   ],
   "execution_count": 36
  },
  {
   "metadata": {
    "ExecuteTime": {
     "end_time": "2025-05-02T13:50:55.222792Z",
     "start_time": "2025-05-02T13:50:55.212263Z"
    }
   },
   "cell_type": "code",
   "source": [
    "data_selection = all_data[[\"id\", \"gen\", \"sp\", \"en\", \"cnt\", \"loc\", \"type\", \"sex\", \"length\", \"dvc\", \"mic\"]]\n",
    "data_selection.head()"
   ],
   "id": "95a9422f05bd60b1",
   "outputs": [
    {
     "data": {
      "text/plain": [
       "       id        gen         sp                 en          cnt  \\\n",
       "0  920292  Eptesicus  serotinus  Eurasian Serotine  Netherlands   \n",
       "1  914886  Eptesicus  serotinus  Eurasian Serotine  Netherlands   \n",
       "2  913356  Eptesicus  serotinus  Eurasian Serotine  Netherlands   \n",
       "3  913125  Eptesicus  serotinus  Eurasian Serotine      Germany   \n",
       "4  913114  Eptesicus  serotinus  Eurasian Serotine      Germany   \n",
       "\n",
       "                                                 loc  \\\n",
       "0                          Stramproy, Weert, Limburg   \n",
       "1                  Klundert, Moerdijk, Noord-Brabant   \n",
       "2  Roelofarendsveen, Waterryck/Gemeentehuis (near...   \n",
       "3            Havelland (near  Rathenow), Brandenburg   \n",
       "4            Havelland (near  Rathenow), Brandenburg   \n",
       "\n",
       "                         type sex length                 dvc  \\\n",
       "0  echolocation, feeding buzz       0:26  Echo Meter Touch 2   \n",
       "1   echolocation, social call       0:14  Echo Meter Touch 2   \n",
       "2  echolocation, feeding buzz       0:14  Echo Meter Touch 2   \n",
       "3  echolocation, feeding buzz       0:29         Gigaset GX4   \n",
       "4  echolocation, feeding buzz       0:15         Gigaset GX4   \n",
       "\n",
       "                      mic  \n",
       "0                          \n",
       "1                          \n",
       "2                          \n",
       "3  Echo Meter Touch 2 Pro  \n",
       "4  Echo Meter Touch 2 Pro  "
      ],
      "text/html": [
       "<div>\n",
       "<style scoped>\n",
       "    .dataframe tbody tr th:only-of-type {\n",
       "        vertical-align: middle;\n",
       "    }\n",
       "\n",
       "    .dataframe tbody tr th {\n",
       "        vertical-align: top;\n",
       "    }\n",
       "\n",
       "    .dataframe thead th {\n",
       "        text-align: right;\n",
       "    }\n",
       "</style>\n",
       "<table border=\"1\" class=\"dataframe\">\n",
       "  <thead>\n",
       "    <tr style=\"text-align: right;\">\n",
       "      <th></th>\n",
       "      <th>id</th>\n",
       "      <th>gen</th>\n",
       "      <th>sp</th>\n",
       "      <th>en</th>\n",
       "      <th>cnt</th>\n",
       "      <th>loc</th>\n",
       "      <th>type</th>\n",
       "      <th>sex</th>\n",
       "      <th>length</th>\n",
       "      <th>dvc</th>\n",
       "      <th>mic</th>\n",
       "    </tr>\n",
       "  </thead>\n",
       "  <tbody>\n",
       "    <tr>\n",
       "      <th>0</th>\n",
       "      <td>920292</td>\n",
       "      <td>Eptesicus</td>\n",
       "      <td>serotinus</td>\n",
       "      <td>Eurasian Serotine</td>\n",
       "      <td>Netherlands</td>\n",
       "      <td>Stramproy, Weert, Limburg</td>\n",
       "      <td>echolocation, feeding buzz</td>\n",
       "      <td></td>\n",
       "      <td>0:26</td>\n",
       "      <td>Echo Meter Touch 2</td>\n",
       "      <td></td>\n",
       "    </tr>\n",
       "    <tr>\n",
       "      <th>1</th>\n",
       "      <td>914886</td>\n",
       "      <td>Eptesicus</td>\n",
       "      <td>serotinus</td>\n",
       "      <td>Eurasian Serotine</td>\n",
       "      <td>Netherlands</td>\n",
       "      <td>Klundert, Moerdijk, Noord-Brabant</td>\n",
       "      <td>echolocation, social call</td>\n",
       "      <td></td>\n",
       "      <td>0:14</td>\n",
       "      <td>Echo Meter Touch 2</td>\n",
       "      <td></td>\n",
       "    </tr>\n",
       "    <tr>\n",
       "      <th>2</th>\n",
       "      <td>913356</td>\n",
       "      <td>Eptesicus</td>\n",
       "      <td>serotinus</td>\n",
       "      <td>Eurasian Serotine</td>\n",
       "      <td>Netherlands</td>\n",
       "      <td>Roelofarendsveen, Waterryck/Gemeentehuis (near...</td>\n",
       "      <td>echolocation, feeding buzz</td>\n",
       "      <td></td>\n",
       "      <td>0:14</td>\n",
       "      <td>Echo Meter Touch 2</td>\n",
       "      <td></td>\n",
       "    </tr>\n",
       "    <tr>\n",
       "      <th>3</th>\n",
       "      <td>913125</td>\n",
       "      <td>Eptesicus</td>\n",
       "      <td>serotinus</td>\n",
       "      <td>Eurasian Serotine</td>\n",
       "      <td>Germany</td>\n",
       "      <td>Havelland (near  Rathenow), Brandenburg</td>\n",
       "      <td>echolocation, feeding buzz</td>\n",
       "      <td></td>\n",
       "      <td>0:29</td>\n",
       "      <td>Gigaset GX4</td>\n",
       "      <td>Echo Meter Touch 2 Pro</td>\n",
       "    </tr>\n",
       "    <tr>\n",
       "      <th>4</th>\n",
       "      <td>913114</td>\n",
       "      <td>Eptesicus</td>\n",
       "      <td>serotinus</td>\n",
       "      <td>Eurasian Serotine</td>\n",
       "      <td>Germany</td>\n",
       "      <td>Havelland (near  Rathenow), Brandenburg</td>\n",
       "      <td>echolocation, feeding buzz</td>\n",
       "      <td></td>\n",
       "      <td>0:15</td>\n",
       "      <td>Gigaset GX4</td>\n",
       "      <td>Echo Meter Touch 2 Pro</td>\n",
       "    </tr>\n",
       "  </tbody>\n",
       "</table>\n",
       "</div>"
      ]
     },
     "execution_count": 35,
     "metadata": {},
     "output_type": "execute_result"
    }
   ],
   "execution_count": 35
  }
 ],
 "metadata": {
  "kernelspec": {
   "display_name": "Python 3",
   "language": "python",
   "name": "python3"
  },
  "language_info": {
   "codemirror_mode": {
    "name": "ipython",
    "version": 2
   },
   "file_extension": ".py",
   "mimetype": "text/x-python",
   "name": "python",
   "nbconvert_exporter": "python",
   "pygments_lexer": "ipython2",
   "version": "2.7.6"
  }
 },
 "nbformat": 4,
 "nbformat_minor": 5
}
