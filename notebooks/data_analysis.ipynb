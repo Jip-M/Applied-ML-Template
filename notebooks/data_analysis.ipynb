{
 "cells": [
  {
   "cell_type": "code",
   "execution_count": 9,
   "id": "3f9d8f0c",
   "metadata": {},
   "outputs": [
    {
     "name": "stdout",
     "output_type": "stream",
     "text": [
      "Collecting xeno-canto\n",
      "  Using cached xeno-canto-3.0.tar.gz (9.9 kB)\n",
      "  Preparing metadata (setup.py) ... \u001b[?25ldone\n",
      "\u001b[?25hCollecting aiofiles>=0.8.0 (from xeno-canto)\n",
      "  Using cached aiofiles-24.1.0-py3-none-any.whl.metadata (10 kB)\n",
      "Collecting aiohttp>=3.8.1 (from xeno-canto)\n",
      "  Downloading aiohttp-3.11.18-cp310-cp310-macosx_11_0_arm64.whl.metadata (7.7 kB)\n",
      "Collecting aiohappyeyeballs>=2.3.0 (from aiohttp>=3.8.1->xeno-canto)\n",
      "  Downloading aiohappyeyeballs-2.6.1-py3-none-any.whl.metadata (5.9 kB)\n",
      "Collecting aiosignal>=1.1.2 (from aiohttp>=3.8.1->xeno-canto)\n",
      "  Downloading aiosignal-1.3.2-py2.py3-none-any.whl.metadata (3.8 kB)\n",
      "Collecting async-timeout<6.0,>=4.0 (from aiohttp>=3.8.1->xeno-canto)\n",
      "  Downloading async_timeout-5.0.1-py3-none-any.whl.metadata (5.1 kB)\n",
      "Requirement already satisfied: attrs>=17.3.0 in /opt/anaconda3/envs/test2/lib/python3.10/site-packages (from aiohttp>=3.8.1->xeno-canto) (23.1.0)\n",
      "Collecting frozenlist>=1.1.1 (from aiohttp>=3.8.1->xeno-canto)\n",
      "  Downloading frozenlist-1.6.0-cp310-cp310-macosx_11_0_arm64.whl.metadata (16 kB)\n",
      "Collecting multidict<7.0,>=4.5 (from aiohttp>=3.8.1->xeno-canto)\n",
      "  Downloading multidict-6.4.3-cp310-cp310-macosx_11_0_arm64.whl.metadata (5.3 kB)\n",
      "Collecting propcache>=0.2.0 (from aiohttp>=3.8.1->xeno-canto)\n",
      "  Downloading propcache-0.3.1-cp310-cp310-macosx_11_0_arm64.whl.metadata (10 kB)\n",
      "Collecting yarl<2.0,>=1.17.0 (from aiohttp>=3.8.1->xeno-canto)\n",
      "  Downloading yarl-1.20.0-cp310-cp310-macosx_11_0_arm64.whl.metadata (72 kB)\n",
      "Requirement already satisfied: typing-extensions>=4.1.0 in /opt/anaconda3/envs/test2/lib/python3.10/site-packages (from multidict<7.0,>=4.5->aiohttp>=3.8.1->xeno-canto) (4.11.0)\n",
      "Requirement already satisfied: idna>=2.0 in /opt/anaconda3/envs/test2/lib/python3.10/site-packages (from yarl<2.0,>=1.17.0->aiohttp>=3.8.1->xeno-canto) (3.7)\n",
      "Using cached aiofiles-24.1.0-py3-none-any.whl (15 kB)\n",
      "Downloading aiohttp-3.11.18-cp310-cp310-macosx_11_0_arm64.whl (457 kB)\n",
      "Downloading aiohappyeyeballs-2.6.1-py3-none-any.whl (15 kB)\n",
      "Downloading aiosignal-1.3.2-py2.py3-none-any.whl (7.6 kB)\n",
      "Downloading async_timeout-5.0.1-py3-none-any.whl (6.2 kB)\n",
      "Downloading frozenlist-1.6.0-cp310-cp310-macosx_11_0_arm64.whl (122 kB)\n",
      "Downloading multidict-6.4.3-cp310-cp310-macosx_11_0_arm64.whl (37 kB)\n",
      "Downloading propcache-0.3.1-cp310-cp310-macosx_11_0_arm64.whl (45 kB)\n",
      "Downloading yarl-1.20.0-cp310-cp310-macosx_11_0_arm64.whl (94 kB)\n",
      "Building wheels for collected packages: xeno-canto\n",
      "  Building wheel for xeno-canto (setup.py) ... \u001b[?25ldone\n",
      "\u001b[?25h  Created wheel for xeno-canto: filename=xeno_canto-3.0-py3-none-any.whl size=8706 sha256=4068d8324486d9f640912865bc3233d53b9e4deb6e4f3d2586c350159354e4bf\n",
      "  Stored in directory: /Users/cristian.mihaiescu/Library/Caches/pip/wheels/4c/12/2f/2b16f9402d1a837dc729365b07a7a9f35227578a27dfb8764c\n",
      "Successfully built xeno-canto\n",
      "Installing collected packages: propcache, multidict, frozenlist, async-timeout, aiohappyeyeballs, aiofiles, yarl, aiosignal, aiohttp, xeno-canto\n",
      "Successfully installed aiofiles-24.1.0 aiohappyeyeballs-2.6.1 aiohttp-3.11.18 aiosignal-1.3.2 async-timeout-5.0.1 frozenlist-1.6.0 multidict-6.4.3 propcache-0.3.1 xeno-canto-3.0 yarl-1.20.0\n",
      "Retrieving metadata...\n",
      "^C\n",
      "Traceback (most recent call last):\n",
      "  File \"/opt/anaconda3/envs/test2/bin/xeno-canto\", line 8, in <module>\n",
      "    sys.exit(main())\n",
      "  File \"/opt/anaconda3/envs/test2/lib/python3.10/site-packages/xenocanto.py\", line 391, in main\n",
      "    asyncio.run(download(params))\n",
      "  File \"/opt/anaconda3/envs/test2/lib/python3.10/asyncio/runners.py\", line 44, in run\n",
      "    return loop.run_until_complete(main)\n",
      "  File \"/opt/anaconda3/envs/test2/lib/python3.10/asyncio/base_events.py\", line 636, in run_until_complete\n",
      "    self.run_forever()\n",
      "  File \"/opt/anaconda3/envs/test2/lib/python3.10/asyncio/base_events.py\", line 603, in run_forever\n",
      "    self._run_once()\n",
      "  File \"/opt/anaconda3/envs/test2/lib/python3.10/asyncio/base_events.py\", line 1909, in _run_once\n",
      "    handle._run()\n",
      "  File \"/opt/anaconda3/envs/test2/lib/python3.10/asyncio/events.py\", line 80, in _run\n",
      "    self._context.run(self._callback, *self._args)\n",
      "  File \"/opt/anaconda3/envs/test2/lib/python3.10/site-packages/xenocanto.py\", line 176, in download\n",
      "    meta_path = metadata(filt)\n",
      "  File \"/opt/anaconda3/envs/test2/lib/python3.10/site-packages/xenocanto.py\", line 58, in metadata\n",
      "    r = request.urlopen(url)\n",
      "  File \"/opt/anaconda3/envs/test2/lib/python3.10/urllib/request.py\", line 216, in urlopen\n",
      "    return opener.open(url, data, timeout)\n",
      "  File \"/opt/anaconda3/envs/test2/lib/python3.10/urllib/request.py\", line 525, in open\n",
      "    response = meth(req, response)\n",
      "  File \"/opt/anaconda3/envs/test2/lib/python3.10/urllib/request.py\", line 634, in http_response\n",
      "    response = self.parent.error(\n",
      "  File \"/opt/anaconda3/envs/test2/lib/python3.10/urllib/request.py\", line 557, in error\n",
      "    result = self._call_chain(*args)\n",
      "  File \"/opt/anaconda3/envs/test2/lib/python3.10/urllib/request.py\", line 496, in _call_chain\n",
      "    result = func(*args)\n",
      "  File \"/opt/anaconda3/envs/test2/lib/python3.10/urllib/request.py\", line 749, in http_error_302\n",
      "    return self.parent.open(new, timeout=req.timeout)\n",
      "  File \"/opt/anaconda3/envs/test2/lib/python3.10/urllib/request.py\", line 519, in open\n",
      "    response = self._open(req, data)\n",
      "  File \"/opt/anaconda3/envs/test2/lib/python3.10/urllib/request.py\", line 536, in _open\n",
      "    result = self._call_chain(self.handle_open, protocol, protocol +\n",
      "  File \"/opt/anaconda3/envs/test2/lib/python3.10/urllib/request.py\", line 496, in _call_chain\n",
      "    result = func(*args)\n",
      "  File \"/opt/anaconda3/envs/test2/lib/python3.10/urllib/request.py\", line 1391, in https_open\n",
      "    return self.do_open(http.client.HTTPSConnection, req,\n",
      "  File \"/opt/anaconda3/envs/test2/lib/python3.10/urllib/request.py\", line 1348, in do_open\n",
      "    h.request(req.get_method(), req.selector, req.data, headers,\n",
      "  File \"/opt/anaconda3/envs/test2/lib/python3.10/http/client.py\", line 1283, in request\n",
      "    self._send_request(method, url, body, headers, encode_chunked)\n",
      "  File \"/opt/anaconda3/envs/test2/lib/python3.10/http/client.py\", line 1329, in _send_request\n",
      "    self.endheaders(body, encode_chunked=encode_chunked)\n",
      "  File \"/opt/anaconda3/envs/test2/lib/python3.10/http/client.py\", line 1278, in endheaders\n",
      "    self._send_output(message_body, encode_chunked=encode_chunked)\n",
      "  File \"/opt/anaconda3/envs/test2/lib/python3.10/http/client.py\", line 1038, in _send_output\n",
      "    self.send(msg)\n",
      "  File \"/opt/anaconda3/envs/test2/lib/python3.10/http/client.py\", line 976, in send\n",
      "    self.connect()\n",
      "  File \"/opt/anaconda3/envs/test2/lib/python3.10/http/client.py\", line 1455, in connect\n",
      "    self.sock = self._context.wrap_socket(self.sock,\n",
      "  File \"/opt/anaconda3/envs/test2/lib/python3.10/ssl.py\", line 513, in wrap_socket\n",
      "    return self.sslsocket_class._create(\n",
      "  File \"/opt/anaconda3/envs/test2/lib/python3.10/ssl.py\", line 1104, in _create\n",
      "    self.do_handshake()\n",
      "  File \"/opt/anaconda3/envs/test2/lib/python3.10/ssl.py\", line 1375, in do_handshake\n",
      "    self._sslobj.do_handshake()\n",
      "KeyboardInterrupt\n"
     ]
    }
   ],
   "source": [
    "# The script that is needed to get the data is:\n",
    "\n",
    "!pip install xeno-canto\n",
    "!xeno-canto -dl grp:\"bats\" cnt:\"Portugal\"\n",
    "\n",
    "# grp: bats = stands for the group of animals we are filtering on\n",
    "# q: A = stands for the quality of the recording. The rank starts from A (clear and loud) to E (unclear)\n",
    "# Therefore, if we want also other qualities, we just select the same group but a different quality\n",
    "# \"cnt\" is the country. Portugal has 6 recordings, so it is a good test to check whether it works or not.\n",
    "# if it works, the next step is select other filters to get data"
   ]
  },
  {
   "cell_type": "code",
   "execution_count": 1,
   "id": "3da89211",
   "metadata": {},
   "outputs": [
    {
     "name": "stdout",
     "output_type": "stream",
     "text": [
      "Requirement already satisfied: matplotlib in /opt/anaconda3/envs/test2/lib/python3.10/site-packages (3.10.0)\n",
      "Requirement already satisfied: contourpy>=1.0.1 in /opt/anaconda3/envs/test2/lib/python3.10/site-packages (from matplotlib) (1.3.1)\n",
      "Requirement already satisfied: cycler>=0.10 in /opt/anaconda3/envs/test2/lib/python3.10/site-packages (from matplotlib) (0.11.0)\n",
      "Requirement already satisfied: fonttools>=4.22.0 in /opt/anaconda3/envs/test2/lib/python3.10/site-packages (from matplotlib) (4.55.3)\n",
      "Requirement already satisfied: kiwisolver>=1.3.1 in /opt/anaconda3/envs/test2/lib/python3.10/site-packages (from matplotlib) (1.4.8)\n",
      "Requirement already satisfied: numpy>=1.23 in /opt/anaconda3/envs/test2/lib/python3.10/site-packages (from matplotlib) (1.26.1)\n",
      "Requirement already satisfied: packaging>=20.0 in /opt/anaconda3/envs/test2/lib/python3.10/site-packages (from matplotlib) (24.1)\n",
      "Requirement already satisfied: pillow>=8 in /opt/anaconda3/envs/test2/lib/python3.10/site-packages (from matplotlib) (10.4.0)\n",
      "Requirement already satisfied: pyparsing>=2.3.1 in /opt/anaconda3/envs/test2/lib/python3.10/site-packages (from matplotlib) (3.2.0)\n",
      "Requirement already satisfied: python-dateutil>=2.7 in /opt/anaconda3/envs/test2/lib/python3.10/site-packages (from matplotlib) (2.9.0.post0)\n",
      "Requirement already satisfied: six>=1.5 in /opt/anaconda3/envs/test2/lib/python3.10/site-packages (from python-dateutil>=2.7->matplotlib) (1.16.0)\n"
     ]
    }
   ],
   "source": [
    "!pip install matplotlib"
   ]
  },
  {
   "cell_type": "code",
   "execution_count": 2,
   "id": "b29bc9cb",
   "metadata": {},
   "outputs": [
    {
     "name": "stdout",
     "output_type": "stream",
     "text": [
      "Requirement already satisfied: scipy in /opt/anaconda3/envs/test2/lib/python3.10/site-packages (1.14.1)\n",
      "Requirement already satisfied: numpy<2.3,>=1.23.5 in /opt/anaconda3/envs/test2/lib/python3.10/site-packages (from scipy) (1.26.1)\n"
     ]
    }
   ],
   "source": [
    "!pip install scipy"
   ]
  },
  {
   "cell_type": "markdown",
   "id": "39a78c36",
   "metadata": {},
   "source": [
    "Try to find a way to differentiate transformed bat sounds from original bat sounds (above hearing frequency)\n",
    "Sampling rate is often higher for original sounds. However, for these 2 examples it is the same..\n"
   ]
  },
  {
   "cell_type": "code",
   "execution_count": 5,
   "id": "7da5594e",
   "metadata": {},
   "outputs": [
    {
     "ename": "FileNotFoundError",
     "evalue": "[Errno 2] No such file or directory: 'Applied-ML-Template/dataset/audio/AcuminateHorseshoeBat/827655.mp3'",
     "output_type": "error",
     "traceback": [
      "\u001b[0;31m---------------------------------------------------------------------------\u001b[0m",
      "\u001b[0;31mFileNotFoundError\u001b[0m                         Traceback (most recent call last)",
      "Cell \u001b[0;32mIn[5], line 9\u001b[0m\n\u001b[1;32m      6\u001b[0m sound_one \u001b[38;5;241m=\u001b[39m \u001b[38;5;124m\"\u001b[39m\u001b[38;5;124mApplied-ML-Template/dataset/audio/AcuminateHorseshoeBat/827655.mp3\u001b[39m\u001b[38;5;124m\"\u001b[39m\n\u001b[1;32m      7\u001b[0m \u001b[38;5;66;03m# sound_two = \"C:/Users/Gebruiker/Downloads/XC938943 - Gewone dwergvleermuis - Pipistrellus pipistrellus.wav\"\u001b[39;00m\n\u001b[0;32m----> 9\u001b[0m sr, _ \u001b[38;5;241m=\u001b[39m \u001b[43mwav\u001b[49m\u001b[38;5;241;43m.\u001b[39;49m\u001b[43mread\u001b[49m\u001b[43m(\u001b[49m\u001b[43msound_one\u001b[49m\u001b[43m)\u001b[49m\n\u001b[1;32m     10\u001b[0m \u001b[38;5;28mprint\u001b[39m(\u001b[38;5;124mf\u001b[39m\u001b[38;5;124m'\u001b[39m\u001b[38;5;124mtransformed sound, sr is \u001b[39m\u001b[38;5;132;01m{\u001b[39;00msr\u001b[38;5;132;01m}\u001b[39;00m\u001b[38;5;124m, _ is \u001b[39m\u001b[38;5;132;01m{\u001b[39;00m_\u001b[38;5;132;01m}\u001b[39;00m\u001b[38;5;124m'\u001b[39m)\n\u001b[1;32m     12\u001b[0m \u001b[38;5;66;03m# sr, _ = wav.read(originalex)\u001b[39;00m\n",
      "File \u001b[0;32m/opt/anaconda3/envs/test2/lib/python3.10/site-packages/scipy/io/wavfile.py:674\u001b[0m, in \u001b[0;36mread\u001b[0;34m(filename, mmap)\u001b[0m\n\u001b[1;32m    672\u001b[0m     mmap \u001b[38;5;241m=\u001b[39m \u001b[38;5;28;01mFalse\u001b[39;00m\n\u001b[1;32m    673\u001b[0m \u001b[38;5;28;01melse\u001b[39;00m:\n\u001b[0;32m--> 674\u001b[0m     fid \u001b[38;5;241m=\u001b[39m \u001b[38;5;28;43mopen\u001b[39;49m\u001b[43m(\u001b[49m\u001b[43mfilename\u001b[49m\u001b[43m,\u001b[49m\u001b[43m \u001b[49m\u001b[38;5;124;43m'\u001b[39;49m\u001b[38;5;124;43mrb\u001b[39;49m\u001b[38;5;124;43m'\u001b[39;49m\u001b[43m)\u001b[49m\n\u001b[1;32m    676\u001b[0m \u001b[38;5;28;01mtry\u001b[39;00m:\n\u001b[1;32m    677\u001b[0m     file_size, is_big_endian, is_rf64 \u001b[38;5;241m=\u001b[39m _read_riff_chunk(fid)\n",
      "\u001b[0;31mFileNotFoundError\u001b[0m: [Errno 2] No such file or directory: 'Applied-ML-Template/dataset/audio/AcuminateHorseshoeBat/827655.mp3'"
     ]
    }
   ],
   "source": [
    "import scipy.io.wavfile as wav\n",
    "\n",
    "# download some sounds and change this to your path to turn them into spectograms\n",
    "\n",
    "# sound one sounded transformed to me, sound 2 didn't sound transformed (humans were speaking in the background)\n",
    "sound_one = \"C:/Users/Gebruiker/Downloads/XC935114 - Gewone dwergvleermuis - Pipistrellus pipistrellus.wav\"\n",
    "sound_two = \"C:/Users/Gebruiker/Downloads/XC938943 - Gewone dwergvleermuis - Pipistrellus pipistrellus.wav\"\n",
    "\n",
    "sr, _ = wav.read(sound_one)\n",
    "print(f'transformed sound, sr is {sr}, _ is {_}')\n",
    "\n",
    "sr, _ = wav.read(originalex)\n",
    "print(f'original sound, sr is {sr}, _ is {_}')\n"
   ]
  },
  {
   "cell_type": "code",
   "execution_count": null,
   "id": "82817ce4",
   "metadata": {},
   "outputs": [],
   "source": [
    "import numpy as np\n",
    "import matplotlib.pyplot as plt\n",
    "from scipy.io import wavfile\n",
    "from scipy.signal import spectrogram"
   ]
  },
  {
   "cell_type": "code",
   "execution_count": 6,
   "id": "e6f99bb0",
   "metadata": {},
   "outputs": [],
   "source": [
    "def spectogram(data, title:str):\n",
    "    # If stereo, convert to mono\n",
    "    if data.ndim > 1:\n",
    "        data = np.mean(data, axis=1)\n",
    "\n",
    "    # Generate spectrogram\n",
    "    f, t, Sxx = spectrogram(data, sr)\n",
    "\n",
    "    # Plot the spectrogram\n",
    "    plt.pcolormesh(t, f, np.log(Sxx), shading=\"gouraud\")\n",
    "    plt.ylabel(\"Frequency [Hz]\")\n",
    "    plt.xlabel(\"Time [sec]\")\n",
    "    plt.title(f\"Spectrogram of {title}\")\n",
    "    plt.ylim(0, 100000)  # Zoom into the frequency range of interest (up to 100 kHz)\n",
    "    plt.colorbar(label=\"Log Intensity\")\n",
    "    plt.show()"
   ]
  },
  {
   "cell_type": "code",
   "execution_count": 7,
   "id": "dfc7cfb6",
   "metadata": {},
   "outputs": [],
   "source": [
    "sound_three = \"C:/Users/Gebruiker/Downloads/XC931826 - Gewone dwergvleermuis - Pipistrellus pipistrellus.wav\"\n",
    "sound_four = \"C:/Users/Gebruiker/Downloads/XC934344 - Gewone dwergvleermuis - Pipistrellus pipistrellus.wav\""
   ]
  },
  {
   "cell_type": "code",
   "execution_count": 8,
   "id": "2eb30489",
   "metadata": {},
   "outputs": [
    {
     "ename": "NameError",
     "evalue": "name 'wavfile' is not defined",
     "output_type": "error",
     "traceback": [
      "\u001b[0;31m---------------------------------------------------------------------------\u001b[0m",
      "\u001b[0;31mNameError\u001b[0m                                 Traceback (most recent call last)",
      "Cell \u001b[0;32mIn[8], line 1\u001b[0m\n\u001b[0;32m----> 1\u001b[0m sr, data \u001b[38;5;241m=\u001b[39m \u001b[43mwavfile\u001b[49m\u001b[38;5;241m.\u001b[39mread(sound_one)\n\u001b[1;32m      2\u001b[0m spectogram(data, \u001b[38;5;124m\"\u001b[39m\u001b[38;5;124mtransformed bat sound\u001b[39m\u001b[38;5;124m\"\u001b[39m)\n\u001b[1;32m      4\u001b[0m sr, data \u001b[38;5;241m=\u001b[39m wavfile\u001b[38;5;241m.\u001b[39mread(sound_two)\n",
      "\u001b[0;31mNameError\u001b[0m: name 'wavfile' is not defined"
     ]
    }
   ],
   "source": [
    "\n",
    "sr, data = wavfile.read(sound_one)\n",
    "spectogram(data, \"transformed bat sound\")\n",
    "\n",
    "sr, data = wavfile.read(sound_two)\n",
    "spectogram(data, \"original bat sound\")\n",
    "\n",
    "sr, data = wavfile.read(sound_three)\n",
    "spectogram(data, \"echo bat sound\")\n",
    "\n",
    "sr, data = wavfile.read(sound_four)\n",
    "spectogram(data, \"idk bat sound\")"
   ]
  }
 ],
 "metadata": {
  "kernelspec": {
   "display_name": "nengo-env",
   "language": "python",
   "name": "python3"
  },
  "language_info": {
   "codemirror_mode": {
    "name": "ipython",
    "version": 3
   },
   "file_extension": ".py",
   "mimetype": "text/x-python",
   "name": "python",
   "nbconvert_exporter": "python",
   "pygments_lexer": "ipython3",
   "version": "3.10.14"
  }
 },
 "nbformat": 4,
 "nbformat_minor": 5
}
